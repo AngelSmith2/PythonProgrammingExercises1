{
 "cells": [
  {
   "cell_type": "markdown",
   "metadata": {},
   "source": [
    "## SELECTION: Making decisions: The IF/ELSE statement"
   ]
  },
  {
   "cell_type": "code",
   "execution_count": 83,
   "metadata": {},
   "outputs": [
    {
     "name": "stdout",
     "output_type": "stream",
     "text": [
      "You are too young\n"
     ]
    }
   ],
   "source": [
    "name = 'Angel'\n",
    "age = 10\n",
    "if age >11:\n",
    "    print(\"You are old enough\")\n",
    "else:\n",
    "    print(\"You are too young\")\n",
    "# Use colons at the end of code after conditions "
   ]
  },
  {
   "cell_type": "code",
   "execution_count": 35,
   "metadata": {},
   "outputs": [
    {
     "name": "stdout",
     "output_type": "stream",
     "text": [
      "You are exactly old enough\n"
     ]
    }
   ],
   "source": [
    "name = 'Angel'\n",
    "age = 16\n",
    "if age == 14:\n",
    "    print(\"You are too young\")\n",
    "elif age == 15:\n",
    "    print(\"You are still too young\")\n",
    "elif age == 16:\n",
    "    print(\"You are exactly old enough\")\n",
    "else:\n",
    "    print(\"What is your age?\")"
   ]
  },
  {
   "cell_type": "code",
   "execution_count": 75,
   "metadata": {},
   "outputs": [
    {
     "name": "stdout",
     "output_type": "stream",
     "text": [
      "You are my favourite!!!\n"
     ]
    }
   ],
   "source": [
    "name = 'Angel'\n",
    "age = 18\n",
    "wonGame = False \n",
    "if age >17 and name == 'Angel':\n",
    "    print(\"You are my favourite!!!\")\n",
    "else:\n",
    "    print(\"You are not quiet there\")\n",
    "# Conditions are if, else, and. "
   ]
  },
  {
   "cell_type": "code",
   "execution_count": 78,
   "metadata": {},
   "outputs": [
    {
     "name": "stdout",
     "output_type": "stream",
     "text": [
      "You are too young\n"
     ]
    }
   ],
   "source": [
    "name = 'Angel'\n",
    "age = 16\n",
    "wonGame = False \n",
    "if age >17 and name == 'Angel':\n",
    "    print(\"You are my favourite!!!\")\n",
    "if not (age >17):\n",
    "    print(\"You are too young\")\n",
    "\n",
    "# Condition if not"
   ]
  },
  {
   "cell_type": "code",
   "execution_count": null,
   "metadata": {
    "collapsed": true
   },
   "outputs": [],
   "source": []
  }
 ],
 "metadata": {
  "kernelspec": {
   "display_name": "Python 3",
   "language": "python",
   "name": "python3"
  },
  "language_info": {
   "codemirror_mode": {
    "name": "ipython",
    "version": 3
   },
   "file_extension": ".py",
   "mimetype": "text/x-python",
   "name": "python",
   "nbconvert_exporter": "python",
   "pygments_lexer": "ipython3",
   "version": "3.5.2"
  }
 },
 "nbformat": 4,
 "nbformat_minor": 2
}
