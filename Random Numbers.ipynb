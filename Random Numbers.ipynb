{
 "cells": [
  {
   "cell_type": "code",
   "execution_count": 1,
   "metadata": {},
   "outputs": [
    {
     "name": "stdout",
     "output_type": "stream",
     "text": [
      "2\n"
     ]
    }
   ],
   "source": [
    "import random\n",
    "secretNum= random.randint(1,10) #Give it a range of numbers e.g (1,10)\n",
    "print(secretNum)"
   ]
  },
  {
   "cell_type": "code",
   "execution_count": 2,
   "metadata": {},
   "outputs": [
    {
     "name": "stdout",
     "output_type": "stream",
     "text": [
      "your random number is 10\n"
     ]
    }
   ],
   "source": [
    "from random import randint\n",
    "num = randint(1,10)\n",
    "print(\"your random number is\", num)"
   ]
  },
  {
   "cell_type": "code",
   "execution_count": 71,
   "metadata": {},
   "outputs": [
    {
     "name": "stdout",
     "output_type": "stream",
     "text": [
      "100\n"
     ]
    }
   ],
   "source": [
    "#randrange start and stop\n",
    "#[] optional\n",
    "#never includes the stop value\n",
    "x = random.randrange(0,101,5)\n",
    "print(x)"
   ]
  },
  {
   "cell_type": "code",
   "execution_count": 13,
   "metadata": {},
   "outputs": [
    {
     "name": "stdout",
     "output_type": "stream",
     "text": [
      "hello world\n",
      "\n",
      "hello \t world \b\n"
     ]
    }
   ],
   "source": [
    "##Printing characters that we can't \"see\"/type\n",
    "\n",
    "print('hello world\\n')\n",
    "print('hello \\t world \\b')"
   ]
  },
  {
   "cell_type": "code",
   "execution_count": 78,
   "metadata": {},
   "outputs": [
    {
     "name": "stdout",
     "output_type": "stream",
     "text": [
      "hello world \n",
      "\n",
      "hello \t world\b\n",
      "hello \t world\n",
      "hello \b world\n"
     ]
    }
   ],
   "source": [
    "##Printing characters that we can't \"see\"/type\n",
    "\n",
    "print('hello world \\n')\n",
    "print('hello \\t world\\b')\n",
    "print('hello \\t world')\n",
    "print('hello \\b world')\n",
    "#\\t create gap between the words hello world\n",
    "#\\b backspace deletes last letter\n",
    "#\\n It make a paragraph"
   ]
  },
  {
   "cell_type": "code",
   "execution_count": 76,
   "metadata": {},
   "outputs": [
    {
     "name": "stdout",
     "output_type": "stream",
     "text": [
      "2\n"
     ]
    }
   ],
   "source": [
    "##Task 1:  Simulate one dice roll in Python\n",
    "diceRoll=randint(1,6)\n",
    "print(diceRoll)"
   ]
  },
  {
   "cell_type": "code",
   "execution_count": 79,
   "metadata": {},
   "outputs": [
    {
     "name": "stdout",
     "output_type": "stream",
     "text": [
      "[10, 8, 3, 5, 6, 2, 1, 7, 4, 9]\n"
     ]
    }
   ],
   "source": [
    "#Shuffling a deck of cards\n",
    "deckOfCards = [1,2,3,4,5,6,7,8,9,10]\n",
    "random.shuffle(deckOfCards)\n",
    "print(deckOfCards)"
   ]
  }
 ],
 "metadata": {
  "kernelspec": {
   "display_name": "Python 3",
   "language": "python",
   "name": "python3"
  },
  "language_info": {
   "codemirror_mode": {
    "name": "ipython",
    "version": 3
   },
   "file_extension": ".py",
   "mimetype": "text/x-python",
   "name": "python",
   "nbconvert_exporter": "python",
   "pygments_lexer": "ipython3",
   "version": "3.5.2"
  }
 },
 "nbformat": 4,
 "nbformat_minor": 2
}
