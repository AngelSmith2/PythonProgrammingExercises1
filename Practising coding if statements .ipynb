{
 "cells": [
  {
   "cell_type": "markdown",
   "metadata": {},
   "source": [
    "# Practicing Code if statement code for different situations"
   ]
  },
  {
   "cell_type": "markdown",
   "metadata": {},
   "source": [
    "### Should the user wear a jumper today or not"
   ]
  },
  {
   "cell_type": "code",
   "execution_count": 29,
   "metadata": {},
   "outputs": [
    {
     "name": "stdout",
     "output_type": "stream",
     "text": [
      "It is going to be cold today wear a jumper\n"
     ]
    }
   ],
   "source": [
    "temp = 18\n",
    "if temp >20:\n",
    "    print(\"You don't need to wear a jumper today\")\n",
    "else:\n",
    "    print(\"It is going to be cold today wear a jumper\")"
   ]
  },
  {
   "cell_type": "markdown",
   "metadata": {},
   "source": [
    "### People can only enter the movies if they are *18 or over* or if they have an *adult with them*"
   ]
  },
  {
   "cell_type": "code",
   "execution_count": null,
   "metadata": {
    "collapsed": true
   },
   "outputs": [],
   "source": [
    "#markdown 1* mean the text becomes italic"
   ]
  },
  {
   "cell_type": "code",
   "execution_count": 48,
   "metadata": {},
   "outputs": [
    {
     "name": "stdout",
     "output_type": "stream",
     "text": [
      "Do you have an adult acommopaning you?\n"
     ]
    }
   ],
   "source": [
    "age = 16\n",
    "adultAcommopaning = True\n",
    "if age >18:\n",
    "    print(\"You can go in and watch the movie.\")\n",
    "elif age <18:\n",
    "    print(\"Do you have an adult acommopaning you?\")\n",
    "#Code correct to an extent, finding difficulty in allowing the user to answer the question whether an adult is coming with them\n",
    "elif adultAcommopaning == True:\n",
    "    print(\"You can go and watch the movie.\")\n",
    "else:\n",
    "    print(\"Sorry you can not watch the movie\")\n",
    "# elif can be used multiple times in an if statement "
   ]
  },
  {
   "cell_type": "code",
   "execution_count": 50,
   "metadata": {},
   "outputs": [
    {
     "name": "stdout",
     "output_type": "stream",
     "text": [
      "I don't know what the weather is going to be like today\n"
     ]
    }
   ],
   "source": [
    "temp = 17\n",
    "rain = 80\n",
    "if temp >17 and rain >80:\n",
    "    print(\"Take an umberella with you\")\n",
    "elif temp >17 and rain<80:\n",
    "    print(\"Wear something comfortable today\")\n",
    "elif temp <17 and rain<80:\n",
    "    print(\"Wear something warm today it will be cold\")\n",
    "elif temp >17 and rain <80:\n",
    "    print(\"Wear something warm and bring an umbrella\")\n",
    "else:\n",
    "    print(\"I don't know what the weather is going to be like today\")\n",
    "    "
   ]
  }
 ],
 "metadata": {
  "kernelspec": {
   "display_name": "Python 3",
   "language": "python",
   "name": "python3"
  },
  "language_info": {
   "codemirror_mode": {
    "name": "ipython",
    "version": 3
   },
   "file_extension": ".py",
   "mimetype": "text/x-python",
   "name": "python",
   "nbconvert_exporter": "python",
   "pygments_lexer": "ipython3",
   "version": "3.5.2"
  }
 },
 "nbformat": 4,
 "nbformat_minor": 2
}
